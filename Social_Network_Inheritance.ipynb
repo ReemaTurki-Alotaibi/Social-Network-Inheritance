{
  "nbformat": 4,
  "nbformat_minor": 0,
  "metadata": {
    "colab": {
      "provenance": []
    },
    "kernelspec": {
      "name": "python3",
      "display_name": "Python 3"
    },
    "language_info": {
      "name": "python"
    }
  },
  "cells": [
    {
      "cell_type": "code",
      "source": [
        "from datetime import datetime\n",
        "\n",
        "# Base class for Post\n",
        "class Post:\n",
        "    def __init__(self, text, timestamp=None):\n",
        "        self.text = text\n",
        "        self.user = None\n",
        "        self.timestamp = timestamp if timestamp else datetime.now()\n",
        "\n",
        "    def set_user(self, user):\n",
        "        self.user = user\n",
        "\n",
        "    def __str__(self):\n",
        "        return f'@{self.user.first_name} {self.user.last_name}: \"{self.text}\"\\n\\t{self.timestamp.strftime(\"%A, %b %d, %Y\")}'\n",
        "\n",
        "# TextPost class inheriting from Post\n",
        "class TextPost(Post):\n",
        "    def __init__(self, text, timestamp=None):\n",
        "        super().__init__(text, timestamp)\n",
        "\n",
        "# PicturePost class inheriting from Post\n",
        "class PicturePost(Post):\n",
        "    def __init__(self, text, image_url, timestamp=None):\n",
        "        super().__init__(text, timestamp)\n",
        "        self.image_url = image_url\n",
        "\n",
        "    def __str__(self):\n",
        "        return f'@{self.user.first_name} {self.user.last_name}: \"{self.text}\"\\n\\t{self.image_url}\\n\\t{self.timestamp.strftime(\"%A, %b %d, %Y\")}'\n",
        "\n",
        "# CheckInPost class inheriting from Post\n",
        "class CheckInPost(Post):\n",
        "    def __init__(self, text, latitude, longitude, timestamp=None):\n",
        "        super().__init__(text, timestamp)\n",
        "        self.latitude = latitude\n",
        "        self.longitude = longitude\n",
        "\n",
        "    def __str__(self):\n",
        "        return f'@{self.user.first_name} Checked In: \"{self.text}\"\\n\\t{self.latitude}, {self.longitude}\\n\\t{self.timestamp.strftime(\"%A, %b %d, %Y\")}'\n",
        "\n",
        "# User class\n",
        "class User:\n",
        "    def __init__(self, first_name, last_name, email):\n",
        "        self.first_name = first_name\n",
        "        self.last_name = last_name\n",
        "        self.email = email\n",
        "        self.posts = []\n",
        "        self.following = []\n",
        "\n",
        "    def add_post(self, post):\n",
        "        post.set_user(self)\n",
        "        self.posts.append(post)\n",
        "\n",
        "    def follow(self, user):\n",
        "        if user not in self.following:\n",
        "            self.following.append(user)\n",
        "\n",
        "    def get_timeline(self):\n",
        "        timeline = []\n",
        "        for user in self.following:\n",
        "            timeline.extend(user.posts)\n",
        "        timeline.sort(key=lambda post: post.timestamp, reverse=True)\n",
        "        return timeline\n",
        "\n",
        "    def __str__(self):\n",
        "        return f'{self.first_name} {self.last_name}'"
      ],
      "metadata": {
        "id": "e7P5VOVG8N3s"
      },
      "execution_count": 4,
      "outputs": []
    },
    {
      "cell_type": "markdown",
      "source": [
        "**TESTS**"
      ],
      "metadata": {
        "id": "m-Eg-CMA8Szm"
      }
    },
    {
      "cell_type": "code",
      "source": [
        "if __name__ == \"__main__\":\n",
        "    # Create users\n",
        "    john = User(\"John\", \"Lennon\", \"john@rmotr.com\")\n",
        "    paul = User(\"Paul\", \"McCartney\", \"paul@rmotr.com\")\n",
        "    george = User(\"George\", \"Harrison\", \"george@rmotr.com\")\n",
        "\n",
        "    # John follows Paul and George\n",
        "    john.follow(paul)\n",
        "    john.follow(george)\n",
        "\n",
        "    # Paul creates posts\n",
        "    paul.add_post(TextPost(\"Post 1\"))\n",
        "    paul.add_post(TextPost(\"Post 3\"))\n",
        "\n",
        "    # George creates a post\n",
        "    george.add_post(TextPost(\"Post 2\"))\n",
        "\n",
        "    # John's timeline\n",
        "    print(\"John's Timeline:\")\n",
        "    for post in john.get_timeline():\n",
        "        print(post)\n",
        "        print(\"---\")\n",
        "\n",
        "    # John creates different types of posts\n",
        "    text_post = TextPost(\"All you need is love!\")\n",
        "    picture_post = PicturePost(\"Check my new submarine.\", image_url='imgur.com/submarine.jpg')\n",
        "    checkin_post = CheckInPost(\"At Abbey Road Studios\", latitude=\"19.111\", longitude=\"-9.2222\")\n",
        "\n",
        "    john.add_post(text_post)\n",
        "    john.add_post(picture_post)\n",
        "    john.add_post(checkin_post)\n",
        "\n",
        "    # Print John's posts\n",
        "    print(\"\\nJohn's Posts:\")\n",
        "    for post in john.posts:\n",
        "        print(post)\n",
        "        print(\"---\")"
      ],
      "metadata": {
        "colab": {
          "base_uri": "https://localhost:8080/"
        },
        "id": "Gwxj0hyP8Q-U",
        "outputId": "7abf5680-34e0-427e-e27d-73e94569d04a"
      },
      "execution_count": 5,
      "outputs": [
        {
          "output_type": "stream",
          "name": "stdout",
          "text": [
            "John's Timeline:\n",
            "@George Harrison: \"Post 2\"\n",
            "\tWednesday, Feb 12, 2025\n",
            "---\n",
            "@Paul McCartney: \"Post 3\"\n",
            "\tWednesday, Feb 12, 2025\n",
            "---\n",
            "@Paul McCartney: \"Post 1\"\n",
            "\tWednesday, Feb 12, 2025\n",
            "---\n",
            "\n",
            "John's Posts:\n",
            "@John Lennon: \"All you need is love!\"\n",
            "\tWednesday, Feb 12, 2025\n",
            "---\n",
            "@John Lennon: \"Check my new submarine.\"\n",
            "\timgur.com/submarine.jpg\n",
            "\tWednesday, Feb 12, 2025\n",
            "---\n",
            "@John Checked In: \"At Abbey Road Studios\"\n",
            "\t19.111, -9.2222\n",
            "\tWednesday, Feb 12, 2025\n",
            "---\n"
          ]
        }
      ]
    }
  ]
}